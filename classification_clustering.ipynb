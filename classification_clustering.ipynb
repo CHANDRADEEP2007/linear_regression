{
 "cells": [
  {
   "cell_type": "code",
   "execution_count": 12,
   "id": "b781c7a9",
   "metadata": {},
   "outputs": [],
   "source": [
    "data = {\n",
    "    'Client': ['Alice', 'Bob', 'Charlie', 'Diana', 'Eve'],\n",
    "    'DealValue': [120000, 5000, 30000, 75000, 2000],\n",
    "    'DealDate': ['2023-01-15', '2023-02-20', '2023-03-10', '2023-04-05', '2023-05-25'],\n",
    "    'Status': ['Closed', 'Open', 'Closed', 'Closed', 'Open']\n",
    "}\n",
    "import numpy as np\n",
    "import pandas as pd\n",
    "df = pd.DataFrame(data)"
   ]
  },
  {
   "cell_type": "code",
   "execution_count": 13,
   "id": "b7a3b1f8",
   "metadata": {},
   "outputs": [
    {
     "name": "stdout",
     "output_type": "stream",
     "text": [
      "    Client  DealValue    DealDate  Status  Cluster\n",
      "1      Bob       5000  2023-02-20    Open        0\n",
      "2  Charlie      30000  2023-03-10  Closed        0\n",
      "4      Eve       2000  2023-05-25    Open        0\n",
      "3    Diana      75000  2023-04-05  Closed        1\n",
      "0    Alice     120000  2023-01-15  Closed        2\n"
     ]
    }
   ],
   "source": [
    "from sklearn.cluster import KMeans\n",
    "import numpy as np\n",
    "\n",
    "# Reshape deal values for clustering\n",
    "X = df['DealValue'].values.reshape(-1, 1)\n",
    "\n",
    "# Create 3 clusters\n",
    "kmeans = KMeans(n_clusters=3, random_state=42)\n",
    "df['Cluster'] = kmeans.fit_predict(X)\n",
    "\n",
    "print(df.sort_values('Cluster'))\n"
   ]
  }
 ],
 "metadata": {
  "kernelspec": {
   "display_name": "Python 3",
   "language": "python",
   "name": "python3"
  },
  "language_info": {
   "codemirror_mode": {
    "name": "ipython",
    "version": 3
   },
   "file_extension": ".py",
   "mimetype": "text/x-python",
   "name": "python",
   "nbconvert_exporter": "python",
   "pygments_lexer": "ipython3",
   "version": "3.13.6"
  }
 },
 "nbformat": 4,
 "nbformat_minor": 5
}

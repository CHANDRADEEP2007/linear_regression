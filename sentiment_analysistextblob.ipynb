{
 "cells": [
  {
   "cell_type": "code",
   "execution_count": 22,
   "id": "724e271b",
   "metadata": {},
   "outputs": [],
   "source": [
    "import pandas as pd\n",
    "\n",
    "\n",
    "texts = [\n",
    "    \"I'm extremely happy with the service I received!\",\n",
    "    \"The onboarding process was slow and frustrating.\",\n",
    "    \"Can someone help me reset my password?\",\n",
    "    \"Thank you for resolving my issue so quickly.\",\n",
    "    \"I’m considering canceling due to poor support.\",\n",
    "    \"Where can I find my invoice for last month?\",\n",
    "    \"Your team was very professional and helpful.\",\n",
    "    \"Still waiting for a response. Very disappointed.\",\n",
    "    \"Great experience overall. Will recommend!\",\n",
    "    \"This is unacceptable. I need a refund.\"\n",
    "]\n",
    "\n"
   ]
  },
  {
   "cell_type": "code",
   "execution_count": 23,
   "id": "8e45f897",
   "metadata": {},
   "outputs": [],
   "source": [
    "from textblob import TextBlob\n",
    "import pandas as pd"
   ]
  },
  {
   "cell_type": "code",
   "execution_count": 24,
   "id": "0edfbb43",
   "metadata": {},
   "outputs": [],
   "source": [
    "# Function to classify sentiment\n",
    "def get_sentiment(text):\n",
    "    polarity = TextBlob(text).sentiment.polarity\n",
    "    if polarity > 0.1:\n",
    "        return \"Positive\"\n",
    "    elif polarity < -0.1:\n",
    "        return \"Negative\"\n",
    "    else:\n",
    "        return \"Neutral\""
   ]
  },
  {
   "cell_type": "code",
   "execution_count": 25,
   "id": "42fac744",
   "metadata": {},
   "outputs": [
    {
     "name": "stdout",
     "output_type": "stream",
     "text": [
      "                                               Text Sentiment\n",
      "0  I'm extremely happy with the service I received!  Positive\n",
      "1  The onboarding process was slow and frustrating.  Negative\n",
      "2            Can someone help me reset my password?   Neutral\n",
      "3      Thank you for resolving my issue so quickly.  Positive\n",
      "4    I’m considering canceling due to poor support.  Negative\n",
      "5       Where can I find my invoice for last month?   Neutral\n",
      "6      Your team was very professional and helpful.  Positive\n",
      "7  Still waiting for a response. Very disappointed.  Negative\n",
      "8         Great experience overall. Will recommend!  Positive\n",
      "9            This is unacceptable. I need a refund.   Neutral\n"
     ]
    }
   ],
   "source": [
    "# Apply sentiment analysis\n",
    "df = pd.DataFrame({'Text': texts})\n",
    "df['Sentiment'] = df['Text'].apply(get_sentiment)\n",
    "\n",
    "print(df)"
   ]
  }
 ],
 "metadata": {
  "kernelspec": {
   "display_name": "Python 3",
   "language": "python",
   "name": "python3"
  },
  "language_info": {
   "codemirror_mode": {
    "name": "ipython",
    "version": 3
   },
   "file_extension": ".py",
   "mimetype": "text/x-python",
   "name": "python",
   "nbconvert_exporter": "python",
   "pygments_lexer": "ipython3",
   "version": "3.13.6"
  }
 },
 "nbformat": 4,
 "nbformat_minor": 5
}

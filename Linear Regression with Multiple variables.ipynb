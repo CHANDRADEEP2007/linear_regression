{
 "cells": [
  {
   "cell_type": "code",
   "execution_count": 30,
   "id": "1c8a80d9",
   "metadata": {},
   "outputs": [],
   "source": [
    "import pandas as pd\n",
    "import numpy as np\n",
    "from sklearn.linear_model import LinearRegression\n",
    "import matplotlib.pyplot as plt\n",
    "from mpl_toolkits.mplot3d import Axes3D"
   ]
  },
  {
   "cell_type": "code",
   "execution_count": 31,
   "id": "a916bb32",
   "metadata": {},
   "outputs": [],
   "source": [
    "# --- edit these if needed ---\n",
    "PATH = r\"C:\\Users\\chand\\Desktop\\Exp\\data_sets\\Housing.csv\"\n",
    "FEATURES = ['area', 'bedrooms', 'stories', 'bathrooms']\n",
    "TARGET = 'price'\n",
    "OUT_XLSX = r\"C:\\Users\\chand\\Desktop\\Exp\\data_sets\\housing_costs.xlsx\""
   ]
  },
  {
   "cell_type": "code",
   "execution_count": 32,
   "id": "99ed3c9e",
   "metadata": {},
   "outputs": [],
   "source": [
    "# Load and keep only needed columns; coerce to numeric and drop missing\n",
    "df = pd.read_csv(PATH)\n",
    "cols = FEATURES + [TARGET]\n",
    "d = df[cols].copy()\n",
    "d = d.apply(pd.to_numeric, errors='coerce').dropna()"
   ]
  },
  {
   "cell_type": "code",
   "execution_count": 33,
   "id": "308f31f7",
   "metadata": {},
   "outputs": [],
   "source": [
    "# Fit multiple linear regression\n",
    "X = d[FEATURES].to_numpy()\n",
    "y = d[TARGET].to_numpy()\n",
    "model = LinearRegression().fit(X, y)"
   ]
  },
  {
   "cell_type": "code",
   "execution_count": 34,
   "id": "60ce1934",
   "metadata": {},
   "outputs": [],
   "source": [
    "# Predictions and per-row differences\n",
    "yhat = model.predict(X)\n",
    "residual = y - yhat                      # actual - predicted\n",
    "squared_error = residual**2\n",
    "half_squared_cost = 0.5 * squared_error  # J_i = 1/2 * (error^2)\n",
    "abs_error = np.abs(residual)\n"
   ]
  },
  {
   "cell_type": "code",
   "execution_count": 35,
   "id": "03b9e314",
   "metadata": {},
   "outputs": [],
   "source": [
    "# Overall metrics\n",
    "mse = squared_error.mean()\n",
    "rmse = np.sqrt(mse)\n",
    "mae = abs_error.mean()\n",
    "r2 = model.score(X, y)"
   ]
  },
  {
   "cell_type": "code",
   "execution_count": 36,
   "id": "4799fc05",
   "metadata": {},
   "outputs": [
    {
     "name": "stdout",
     "output_type": "stream",
     "text": [
      "Saved: C:\\Users\\chand\\Desktop\\Exp\\data_sets\\housing_costs.xlsx\n"
     ]
    }
   ],
   "source": [
    "# Build export DataFrame (features, actual, predicted, and costs)\n",
    "out = d.copy()\n",
    "out['predicted_price'] = yhat\n",
    "out['residual'] = residual\n",
    "out['abs_error'] = abs_error\n",
    "out['squared_error'] = squared_error\n",
    "out['half_squared_cost'] = half_squared_cost  # per-line-item cost\n",
    "\n",
    "# Write to Excel: line items + summary\n",
    "with pd.ExcelWriter(OUT_XLSX, engine='openpyxl') as xw:\n",
    "    out.to_excel(xw, index=False, sheet_name='line_item_costs')\n",
    "    summary = pd.DataFrame({\n",
    "        'metric': (['intercept'] + [f'coef_{f}' for f in FEATURES]\n",
    "                   + ['R2','MAE','MSE','RMSE','J(theta)=1/2·MSE']),\n",
    "        'value':  [model.intercept_, *model.coef_, r2, mae, mse, rmse, 0.5*mse]\n",
    "    })\n",
    "    summary.to_excel(xw, index=False, sheet_name='summary')\n",
    "\n",
    "print(\"Saved:\", OUT_XLSX)"
   ]
  }
 ],
 "metadata": {
  "kernelspec": {
   "display_name": "Python 3",
   "language": "python",
   "name": "python3"
  },
  "language_info": {
   "codemirror_mode": {
    "name": "ipython",
    "version": 3
   },
   "file_extension": ".py",
   "mimetype": "text/x-python",
   "name": "python",
   "nbconvert_exporter": "python",
   "pygments_lexer": "ipython3",
   "version": "3.13.6"
  }
 },
 "nbformat": 4,
 "nbformat_minor": 5
}
